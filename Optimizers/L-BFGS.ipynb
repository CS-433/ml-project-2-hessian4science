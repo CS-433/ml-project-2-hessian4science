{
 "cells": [
  {
   "cell_type": "code",
   "execution_count": 2,
   "metadata": {},
   "outputs": [],
   "source": [
    "import torchvision\n",
    "from torch.optim import Optimizer\n",
    "import torch\n",
    "import numpy as np"
   ]
  },
  {
   "cell_type": "markdown",
   "metadata": {},
   "source": [
    "The goal of this algorithm is using the stored vectors (s_i, y_i) to accelerate the computation of the approximation of Hessian matrix. With this algorithm, we can update x_k with less memory and computation. Inside the algorithm, computations are vector element-wise product."
   ]
  },
  {
   "cell_type": "code",
   "execution_count": 5,
   "metadata": {},
   "outputs": [],
   "source": [
    "class COptimizer(Optimizer):\n",
    "    def __init__(self, *args, **kwargs):\n",
    "        self.f = None\n",
    "        self.has_f = False\n",
    "        super(COptimizer, self).__init__(*args, **kwargs)\n",
    "\n",
    "    def set_f(self, model, data, target, criterion):\n",
    "        if self.has_f:\n",
    "            names = list(n for n, _ in model.named_parameters())\n",
    "\n",
    "            def f(*params):\n",
    "                out: torch.Tensor = torch.func.functional_call(model, {n: p for n, p in zip(names, params)}, data)\n",
    "                return criterion(out, target)\n",
    "\n",
    "            self.f = f"
   ]
  },
  {
   "cell_type": "markdown",
   "metadata": {},
   "source": [
    "### Implementation from in-built function"
   ]
  },
  {
   "cell_type": "code",
   "execution_count": 3,
   "metadata": {},
   "outputs": [],
   "source": [
    "class LBFGS(torch.optim.LBFGS):\n",
    "    def __init__(self, *args, **kwargs):\n",
    "        super(LBFGS, self).__init__(*args, **kwargs)\n",
    "\n",
    "    def step(self, closure=None):\n",
    "        return super(LBFGS, self).step(closure)\n",
    "\n",
    "    def set_f(self, model, data, target, criterion):\n",
    "        return"
   ]
  },
  {
   "cell_type": "markdown",
   "metadata": {},
   "source": [
    "### Implementation from scratch\n",
    "Needs to be adpated to this https://github.com/hjmshi/PyTorch-LBFGS/blob/master/functions/LBFGS.py"
   ]
  },
  {
   "cell_type": "code",
   "execution_count": null,
   "metadata": {},
   "outputs": [],
   "source": [
    "class LBFGS(COptimizer):\n",
    "    def __init__(self, params, lr=1e-1, f=lambda x: x, history_size=10, line_search='Wolfe', T=100):\n",
    "        defaults = dict(lr=lr, f=f, T=T)\n",
    "        self.has_f = False\n",
    "        self.f = f\n",
    "        self.lr = lr\n",
    "        self.T = T\n",
    "        self.count = 0\n",
    "        state = self.state['global_state']\n",
    "        state.setdefault('n_iter', 0)\n",
    "        state.setdefault('curv_skips', 0)\n",
    "        state.setdefault('fail_skips', 0)\n",
    "        state.setdefault('H_diag',1)\n",
    "        state.setdefault('fail', True)\n",
    "\n",
    "        state['old_dirs'] = []\n",
    "        state['old_stps'] = []\n",
    "        \n",
    "    def line_search(self, line_search):\n",
    "        \"\"\"\n",
    "        Switches line search option.\n",
    "        \n",
    "        Inputs:\n",
    "            line_search (str): designates line search to use\n",
    "                Options:\n",
    "                    'None': uses steplength designated in algorithm\n",
    "                    'Armijo': uses Armijo backtracking line search\n",
    "                    'Wolfe': uses Armijo-Wolfe bracketing line search\n",
    "        \n",
    "        \"\"\"\n",
    "        \n",
    "        group = self.param_groups[0]\n",
    "        group['line_search'] = line_search\n",
    "\n",
    "    def step(self, **kwargs):\n",
    "        # gradient, s_stored, y_stored, m\n",
    "        q = gradient\n",
    "    \n",
    "        #a here is the alpha in the article\n",
    "        a = torch.zeros(m)\n",
    "    \n",
    "        rou = torch.array([1/np.dot(y_stored[j, :], s_stored[j, :]) for j in range(m)])\n",
    "        for i in range(m):\n",
    "            a[m - 1 - i] = rou[m - 1 - i] * np.torch(s_stored[m - 1 - i, :], q)\n",
    "            q = q - a[m - 1 - i]*y_stored[m - 1 - i, :]\n",
    "    \n",
    "        #Here I don't set H_k0 to be a matrix. I just set it as a scalar for computation\n",
    "        H_k0 = (torch.dot(s_stored[m - 1], y_stored[m - 1])/torch.dot(y_stored[m - 1], y_stored[m - 1]))\n",
    "        r = H_k0 * q\n",
    "    \n",
    "        for i in range(m):\n",
    "            beta = rou[i] * torch.dot(y_stored[i, :], r)\n",
    "            r = r + (a[i] - beta) * s_stored[i]\n",
    "        return r"
   ]
  }
 ],
 "metadata": {
  "kernelspec": {
   "display_name": "CS-433",
   "language": "python",
   "name": "python3"
  },
  "language_info": {
   "codemirror_mode": {
    "name": "ipython",
    "version": 3
   },
   "file_extension": ".py",
   "mimetype": "text/x-python",
   "name": "python",
   "nbconvert_exporter": "python",
   "pygments_lexer": "ipython3",
   "version": "3.11.5"
  }
 },
 "nbformat": 4,
 "nbformat_minor": 2
}
