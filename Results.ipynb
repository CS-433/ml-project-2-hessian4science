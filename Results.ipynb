{
 "cells": [
  {
   "cell_type": "code",
   "execution_count": 4,
   "metadata": {},
   "outputs": [],
   "source": [
    "import pandas as pd"
   ]
  },
  {
   "cell_type": "code",
   "execution_count": 43,
   "metadata": {},
   "outputs": [
    {
     "name": "stdout",
     "output_type": "stream",
     "text": [
      "Index(['train_acc', ' train_loss', 'val_acc', 'val_loss', 'iter', 'epoch'], dtype='object')\n"
     ]
    },
    {
     "data": {
      "text/html": [
       "<div>\n",
       "<style scoped>\n",
       "    .dataframe tbody tr th:only-of-type {\n",
       "        vertical-align: middle;\n",
       "    }\n",
       "\n",
       "    .dataframe tbody tr th {\n",
       "        vertical-align: top;\n",
       "    }\n",
       "\n",
       "    .dataframe thead th {\n",
       "        text-align: right;\n",
       "    }\n",
       "</style>\n",
       "<table border=\"1\" class=\"dataframe\">\n",
       "  <thead>\n",
       "    <tr style=\"text-align: right;\">\n",
       "      <th></th>\n",
       "      <th>train_acc</th>\n",
       "      <th>train_loss</th>\n",
       "      <th>val_acc</th>\n",
       "      <th>val_loss</th>\n",
       "      <th>iter</th>\n",
       "      <th>epoch</th>\n",
       "    </tr>\n",
       "  </thead>\n",
       "  <tbody>\n",
       "    <tr>\n",
       "      <th>0</th>\n",
       "      <td>0.098444</td>\n",
       "      <td>2.302984</td>\n",
       "      <td>0.089167</td>\n",
       "      <td>2.303218</td>\n",
       "      <td>0</td>\n",
       "      <td>0</td>\n",
       "    </tr>\n",
       "    <tr>\n",
       "      <th>0</th>\n",
       "      <td>0.127111</td>\n",
       "      <td>2.302785</td>\n",
       "      <td>0.122000</td>\n",
       "      <td>2.302937</td>\n",
       "      <td>1</td>\n",
       "      <td>0</td>\n",
       "    </tr>\n",
       "    <tr>\n",
       "      <th>0</th>\n",
       "      <td>0.101981</td>\n",
       "      <td>2.302703</td>\n",
       "      <td>0.104000</td>\n",
       "      <td>2.302562</td>\n",
       "      <td>2</td>\n",
       "      <td>0</td>\n",
       "    </tr>\n",
       "    <tr>\n",
       "      <th>0</th>\n",
       "      <td>0.097315</td>\n",
       "      <td>2.302682</td>\n",
       "      <td>0.100333</td>\n",
       "      <td>2.302754</td>\n",
       "      <td>3</td>\n",
       "      <td>0</td>\n",
       "    </tr>\n",
       "    <tr>\n",
       "      <th>0</th>\n",
       "      <td>0.112981</td>\n",
       "      <td>2.302634</td>\n",
       "      <td>0.110167</td>\n",
       "      <td>2.302605</td>\n",
       "      <td>4</td>\n",
       "      <td>0</td>\n",
       "    </tr>\n",
       "  </tbody>\n",
       "</table>\n",
       "</div>"
      ],
      "text/plain": [
       "   train_acc   train_loss   val_acc  val_loss  iter  epoch\n",
       "0   0.098444     2.302984  0.089167  2.303218     0      0\n",
       "0   0.127111     2.302785  0.122000  2.302937     1      0\n",
       "0   0.101981     2.302703  0.104000  2.302562     2      0\n",
       "0   0.097315     2.302682  0.100333  2.302754     3      0\n",
       "0   0.112981     2.302634  0.110167  2.302605     4      0"
      ]
     },
     "execution_count": 43,
     "metadata": {},
     "output_type": "execute_result"
    }
   ],
   "source": [
    "dataset = \"MNIST\"\n",
    "optimizer = \"SGD\"\n",
    "initial = pd.read_csv(f\"{dataset}/history_lin:3_conv:3_iter:0_opt:{optimizer}_sch:False.csv\")\n",
    "initial[\"iter\"] = 0\n",
    "initial['epoch'] = initial.index\n",
    "print(initial.columns)\n",
    "for iter in range(1,5):\n",
    "    file = f\"{dataset}/history_lin:3_conv:3_iter:{iter}_opt:{optimizer}_sch:False.csv\"\n",
    "    df = pd.read_csv(file)\n",
    "    df[\"iter\"] = iter\n",
    "    df['epoch'] = df.index\n",
    "    #concat\n",
    "    initial = pd.concat([initial, df])\n",
    "\n",
    "\n",
    "grouped = initial.groupby(['epoch'])\n",
    "grouped_0 = grouped.get_group((0))\n",
    "grouped_0"
   ]
  },
  {
   "cell_type": "code",
   "execution_count": null,
   "metadata": {},
   "outputs": [],
   "source": []
  }
 ],
 "metadata": {
  "kernelspec": {
   "display_name": "visual",
   "language": "python",
   "name": "python3"
  },
  "language_info": {
   "codemirror_mode": {
    "name": "ipython",
    "version": 3
   },
   "file_extension": ".py",
   "mimetype": "text/x-python",
   "name": "python",
   "nbconvert_exporter": "python",
   "pygments_lexer": "ipython3",
   "version": "3.9.16"
  }
 },
 "nbformat": 4,
 "nbformat_minor": 2
}
